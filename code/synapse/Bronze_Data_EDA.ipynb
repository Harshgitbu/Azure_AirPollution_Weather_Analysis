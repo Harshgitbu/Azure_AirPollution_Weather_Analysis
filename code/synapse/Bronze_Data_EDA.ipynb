{
  "nbformat": 4,
  "nbformat_minor": 2,
  "cells": [
    {
      "cell_type": "markdown",
      "metadata": {
        "nteract": {
          "transient": {
            "deleting": false
          }
        }
      },
      "source": [
        "##### **Connecting to the storage account and container to access files**"
      ]
    },
    {
      "cell_type": "code",
      "execution_count": 40,
      "outputs": [],
      "metadata": {},
      "source": [
        "# connecting to storage account\n",
        "storage_account_name = \"harshshahstorage\"\n",
        "storage_account_key = \"3Dy1d9uhwVwMNbaF2LsVuYGk31VaqdAs07t2RHy7Lq5fQwum/iXauc+eXslf5I+7WFzC03Mug1m1+ASte+XCnQ==\"\n",
        "\n",
        "spark.conf.set(\n",
        "    \"fs.azure.account.key.\" + storage_account_name + \".dfs.core.windows.net\",\n",
        "    storage_account_key\n",
        ")"
      ]
    },
    {
      "cell_type": "code",
      "execution_count": 42,
      "outputs": [],
      "metadata": {},
      "source": [
        "# Access to ADLS container\n",
        "\n",
        "# Read data directly from ADLS Gen2\n",
        "container_name = \"harshcontainer\"\n",
        "air_pollution_folder_path = \"Bronze/AirPollutionData/2.5/air_pollution\"  # Folder path\n",
        "historical_weather_folder_path = \"Bronze/WeatherAPIData/2.5/history\"\n",
        "\n",
        "# Read all JSON files in the folder\n",
        "air_pollution_df = spark.read.json(f\"abfss://{container_name}@{storage_account_name}.dfs.core.windows.net/{air_pollution_folder_path}\")\n",
        "historical_weather_df = spark.read.json(f\"abfss://{container_name}@{storage_account_name}.dfs.core.windows.net/{historical_weather_folder_path}\")"
      ]
    },
    {
      "cell_type": "code",
      "execution_count": 43,
      "outputs": [],
      "metadata": {},
      "source": [
        "#check airpollution and weather dataframe\n",
        "air_pollution_df.head()\n",
        "historical_weather_df.head()"
      ]
    },
    {
      "cell_type": "code",
      "execution_count": 44,
      "outputs": [],
      "metadata": {},
      "source": [
        "# Schema for airpollution and weather\n",
        "air_pollution_df.printSchema()\n",
        "historical_weather_df.printSchema()"
      ]
    },
    {
      "cell_type": "markdown",
      "metadata": {
        "nteract": {
          "transient": {
            "deleting": false
          }
        }
      },
      "source": [
        "##### **Cleaning json data format to make it well structured to use it for analysis later**"
      ]
    },
    {
      "cell_type": "code",
      "execution_count": 45,
      "outputs": [],
      "metadata": {},
      "source": [
        "from pyspark.sql.functions import col, explode, from_unixtime\n",
        "\n",
        "air_pollution_flatten = air_pollution_df.withColumn(\"list\", explode(col(\"list\")))\n",
        "\n",
        "#columns\n",
        "air_pollution_flatten = air_pollution_flatten.select(\n",
        "    col(\"coord.lat\").alias(\"latitude\"),\n",
        "    col(\"coord.lon\").alias(\"longitude\"),\n",
        "    from_unixtime(col(\"list.dt\")).alias(\"date\"),\n",
        "    col(\"list.main.aqi\").alias(\"AQI\"),\n",
        "    col(\"list.components.co\").alias(\"CO\"),\n",
        "    col(\"list.components.nh3\").alias(\"NH3\"),\n",
        "    col(\"list.components.no\").alias(\"NO\"),\n",
        "    col(\"list.components.no2\").alias(\"NO2\"),\n",
        "    col(\"list.components.o3\").alias(\"O3\"),\n",
        "    col(\"list.components.pm10\").alias(\"PM10\"),\n",
        "    col(\"list.components.pm2_5\").alias(\"PM2.5\"),\n",
        "    col(\"list.components.so2\").alias(\"SO2\")\n",
        ")\n",
        "\n",
        "# DataFrame\n",
        "air_pollution_flatten.show(5)\n",
        ""
      ]
    },
    {
      "cell_type": "code",
      "execution_count": 46,
      "outputs": [],
      "metadata": {},
      "source": [
        "weather_flatten = historical_weather_df.withColumn(\"list\", explode(col(\"list\")))\n",
        "\n",
        "# Select required fields\n",
        "weather_flatten = weather_flatten.select(\n",
        "    col(\"city_id\").alias(\"city_id\"),\n",
        "    from_unixtime(col(\"list.dt\")).alias(\"date\"),\n",
        "    col(\"list.main.temp\").alias(\"temperature\"),\n",
        "    col(\"list.main.feels_like\").alias(\"feels_like\"),\n",
        "    col(\"list.main.temp_min\").alias(\"temp_min\"),\n",
        "    col(\"list.main.temp_max\").alias(\"temp_max\"),\n",
        "    col(\"list.main.humidity\").alias(\"humidity\"),\n",
        "    col(\"list.main.pressure\").alias(\"pressure\"),\n",
        "    col(\"list.wind.speed\").alias(\"wind_speed\"),\n",
        "    col(\"list.wind.deg\").alias(\"wind_direction\"),\n",
        "    col(\"list.clouds.all\").alias(\"cloud_coverage\"),\n",
        "    col(\"list.weather\").getItem(0).getField(\"main\").alias(\"weather_condition\"),\n",
        "    col(\"list.weather\").getItem(0).getField(\"description\").alias(\"weather_description\")\n",
        ")\n",
        "\n",
        "#DataFrame\n",
        "weather_flatten.show(5)\n",
        ""
      ]
    },
    {
      "cell_type": "markdown",
      "metadata": {
        "nteract": {
          "transient": {
            "deleting": false
          }
        }
      },
      "source": [
        "##### **Converting to Pandas DF and checking if the data is well structured**"
      ]
    },
    {
      "cell_type": "code",
      "execution_count": 47,
      "outputs": [],
      "metadata": {},
      "source": [
        "# convert spark df to pandas df\n",
        "weather_pd_df = weather_flatten.toPandas()\n",
        "air_pollution_pd_df = air_pollution_flatten.toPandas()"
      ]
    },
    {
      "cell_type": "code",
      "execution_count": 49,
      "outputs": [],
      "metadata": {},
      "source": [
        "#check weather pandas dataframe\n",
        "weather_pd_df.head(10)"
      ]
    },
    {
      "cell_type": "code",
      "execution_count": 50,
      "outputs": [],
      "metadata": {},
      "source": [
        "#check air pollution pandas dataframe\n",
        "air_pollution_pd_df.head(10)"
      ]
    },
    {
      "cell_type": "markdown",
      "metadata": {
        "nteract": {
          "transient": {
            "deleting": false
          }
        }
      },
      "source": [
        "##### **Air Pollution Data Analysis**"
      ]
    },
    {
      "cell_type": "code",
      "execution_count": 51,
      "outputs": [],
      "metadata": {},
      "source": [
        "import matplotlib.pyplot as plt\n",
        "import seaborn as sns\n",
        "\n",
        "#Checking Air Quality Index\n",
        "\n",
        "plt.figure(figsize=(8, 5))\n",
        "sns.histplot(air_pollution_pd_df[\"AQI\"], bins=20, kde=True, color=\"red\")\n",
        "plt.title(\"Distribution of AQI Levels\")\n",
        "plt.xlabel(\"AQI\")\n",
        "plt.ylabel(\"Frequency\")\n",
        "plt.show()"
      ]
    },
    {
      "cell_type": "code",
      "execution_count": 59,
      "outputs": [],
      "metadata": {},
      "source": [
        "#carbon monoxide at AQI level\n",
        "\n",
        "plt.figure(figsize=(8, 5))\n",
        "sns.scatterplot(x=air_pollution_pd_df[\"CO\"], y=air_pollution_pd_df[\"AQI\"], alpha=0.6, color=\"purple\")\n",
        "plt.title(\"Scatter Plot: AQI vs CO Levels\")\n",
        "plt.xlabel(\"CO Concentration (µg/m³)\")\n",
        "plt.ylabel(\"AQI\")\n",
        "plt.show()"
      ]
    },
    {
      "cell_type": "code",
      "execution_count": 60,
      "outputs": [],
      "metadata": {},
      "source": [
        "# Avg pollution level of pollutants\n",
        "\n",
        "pollutants = [\"CO\", \"NO\", \"NO2\", \"O3\", \"PM10\", \"PM2.5\", \"SO2\", \"NH3\"]\n",
        "\n",
        "avg_pollution = air_pollution_pd_df[pollutants].mean()\n",
        "\n",
        "plt.figure(figsize=(10, 5))\n",
        "sns.barplot(x=avg_pollution.index, y=avg_pollution.values, palette=\"viridis\")\n",
        "plt.title(\"Average Concentration of Different Pollutants\")\n",
        "plt.xlabel(\"Pollutants\")\n",
        "plt.ylabel(\"Average Concentration (µg/m³)\")\n",
        "plt.show()"
      ]
    },
    {
      "cell_type": "markdown",
      "metadata": {
        "nteract": {
          "transient": {
            "deleting": false
          }
        }
      },
      "source": [
        "##### **Historical Weather Data Analysis**"
      ]
    },
    {
      "cell_type": "code",
      "execution_count": 52,
      "outputs": [],
      "metadata": {},
      "source": [
        "# Temperature distribution\n",
        "\n",
        "plt.figure(figsize=(8, 5))\n",
        "sns.histplot(weather_pd_df[\"temperature\"], bins=30, kde=True, color=\"royalblue\")\n",
        "plt.title(\"Distribution of Temperature\")\n",
        "plt.xlabel(\"Temperature (°F)\")\n",
        "plt.ylabel(\"Frequency\")\n",
        "plt.show()"
      ]
    },
    {
      "cell_type": "code",
      "execution_count": 53,
      "outputs": [],
      "metadata": {},
      "source": [
        "# Temperature v/s Humidity\n",
        "\n",
        "plt.figure(figsize=(8, 5))\n",
        "sns.scatterplot(x=weather_pd_df[\"temperature\"], y=weather_pd_df[\"humidity\"], alpha=0.6, color=\"green\")\n",
        "plt.title(\"Scatter Plot: Temperature vs Humidity\")\n",
        "plt.xlabel(\"Temperature (°F)\")\n",
        "plt.ylabel(\"Humidity (%)\")\n",
        "plt.show()"
      ]
    },
    {
      "cell_type": "code",
      "execution_count": 54,
      "outputs": [],
      "metadata": {},
      "source": [
        "# Temperature Variations\n",
        "\n",
        "plt.figure(figsize=(8, 5))\n",
        "sns.boxplot(y=weather_pd_df[\"temperature\"], color=\"orange\")\n",
        "plt.title(\"Box Plot of Temperature\")\n",
        "plt.ylabel(\"Temperature (°F)\")\n",
        "plt.show()"
      ]
    },
    {
      "cell_type": "code",
      "execution_count": 56,
      "outputs": [],
      "metadata": {},
      "source": [
        "import pandas as pd\n",
        "\n",
        "# Monthly weather trends\n",
        "\n",
        "weather_pd_df[\"date\"] = pd.to_datetime(weather_pd_df[\"date\"])\n",
        "weather_monthly = weather_pd_df.resample(\"M\", on=\"date\").mean()\n",
        "weather_monthly[\"month\"] = weather_monthly.index.strftime(\"%b\")  # 'Jan', 'Feb', etc.\n",
        "\n",
        "# Plot\n",
        "plt.figure(figsize=(10, 5))\n",
        "plt.plot(weather_monthly.index, weather_monthly[\"temperature\"], marker=\"o\", linestyle=\"-\", color=\"red\", alpha=0.7)\n",
        "plt.xticks(weather_monthly.index, weather_monthly[\"month\"], rotation=45)  \n",
        "plt.title(\"Monthly Average Temperature Trend\")\n",
        "plt.xlabel(\"Month\")\n",
        "plt.ylabel(\"Average Temperature (°F)\")\n",
        "plt.grid(True)\n",
        "plt.show()"
      ]
    },
    {
      "cell_type": "code",
      "execution_count": 57,
      "outputs": [],
      "metadata": {},
      "source": [
        "# Correlation heatmap\n",
        "\n",
        "plt.figure(figsize=(8, 6))\n",
        "sns.heatmap(weather_pd_df.corr(), annot=True, cmap=\"coolwarm\", fmt=\".2f\")\n",
        "plt.title(\"Correlation Heatmap of Weather Variables\")\n",
        "plt.show()"
      ]
    },
    {
      "cell_type": "code",
      "execution_count": 75,
      "outputs": [],
      "metadata": {},
      "source": [
        "# most common weather conditions\n",
        "\n",
        "weather_counts = weather_pd_df[\"weather_condition\"].value_counts()\n",
        "\n",
        "filtered_weather_counts = weather_counts[weather_counts >= 100]\n",
        "\n",
        "plt.figure(figsize=(8, 5))\n",
        "plt.pie(\n",
        "    filtered_weather_counts, \n",
        "    labels=filtered_weather_counts.index,  \n",
        "    autopct=\"%1.1f%%\", \n",
        "    colors=sns.color_palette(\"pastel\"), \n",
        "    pctdistance=0.75,  \n",
        "    startangle=140,  \n",
        "    wedgeprops={\"edgecolor\": \"black\", \"linewidth\": 1} \n",
        ")\n",
        "plt.title(\"Most Common Weather Conditions Distribution\")\n",
        "plt.show()\n",
        ""
      ]
    }
  ],
  "metadata": {
    "description": "EDA on historical weather data ",
    "save_output": true,
    "language_info": {
      "name": "python"
    }
  }
}