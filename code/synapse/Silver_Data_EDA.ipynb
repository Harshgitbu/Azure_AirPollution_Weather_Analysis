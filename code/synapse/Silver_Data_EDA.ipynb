{
  "nbformat": 4,
  "nbformat_minor": 2,
  "metadata": {
    "language_info": {
      "name": "python"
    },
    "kernelspec": {
      "name": "synapse_pyspark",
      "display_name": "python"
    },
    "description": "Silver Data EDA",
    "save_output": true,
    "synapse_widget": {
      "version": "0.1",
      "state": {}
    }
  },
  "cells": [
    {
      "cell_type": "markdown",
      "metadata": {
        "nteract": {
          "transient": {
            "deleting": false
          }
        }
      },
      "source": [
        "**Connecting to the storage account and container to access files**"
      ]
    },
    {
      "cell_type": "code",
      "execution_count": 2,
      "outputs": [
        {
          "output_type": "display_data",
          "data": {
            "application/vnd.livy.statement-meta+json": {
              "spark_pool": "openweather",
              "statement_id": 2,
              "statement_ids": [
                2
              ],
              "state": "finished",
              "livy_statement_state": "available",
              "spark_jobs": null,
              "session_id": "1",
              "normalized_state": "finished",
              "queued_time": "2025-04-02T20:02:00.1301093Z",
              "session_start_time": "2025-04-02T20:02:00.1310805Z",
              "execution_start_time": "2025-04-02T20:02:34.983876Z",
              "execution_finish_time": "2025-04-02T20:02:47.7169954Z",
              "parent_msg_id": "a5e06001-4d42-48c6-a390-2f412c86ac84"
            },
            "text/plain": "StatementMeta(openweather, 1, 2, Finished, Available, Finished)"
          },
          "metadata": {}
        }
      ],
      "metadata": {},
      "source": [
        "# Read data directly from ADLS Gen2\n",
        "container_name = \"harshcontainer\"\n",
        "air_pollution_folder_path = \"Silver/AirPollutionSilverData\"\n",
        "historical_weather_folder_path = \"Silver/WeatherSilverData\"\n",
        "\n",
        "# Set up the configuration for accessing the storage account\n",
        "storage_account_name = \"harshshahstorage\"\n",
        "storage_account_key = \"key\"\n",
        "\n",
        "# Read all JSON files in the folder\n",
        "air_pollution_df = spark.read.json(f\"abfss://{container_name}@{storage_account_name}.dfs.core.windows.net/{air_pollution_folder_path}\")\n",
        "historical_weather_df = spark.read.json(f\"abfss://{container_name}@{storage_account_name}.dfs.core.windows.net/{historical_weather_folder_path}\")\n",
        "\n",
        "# Set Spark config to access the storage account\n",
        "spark.conf.set(\n",
        "    f\"fs.azure.account.key.{storage_account_name}.dfs.core.windows.net\",\n",
        "    storage_account_key\n",
        ")\n",
        "\n",
        "# Define ABFSS path\n",
        "abfss_path = f\"abfss://{container_name}@{storage_account_name}.dfs.core.windows.net/\"\n",
        ""
      ]
    },
    {
      "cell_type": "markdown",
      "metadata": {
        "nteract": {
          "transient": {
            "deleting": false
          }
        }
      },
      "source": [
        "**Load Data into Dataframe**"
      ]
    },
    {
      "cell_type": "code",
      "execution_count": 3,
      "outputs": [
        {
          "output_type": "display_data",
          "data": {
            "application/vnd.livy.statement-meta+json": {
              "spark_pool": "openweather",
              "statement_id": 3,
              "statement_ids": [
                3
              ],
              "state": "finished",
              "livy_statement_state": "available",
              "spark_jobs": null,
              "session_id": "1",
              "normalized_state": "finished",
              "queued_time": "2025-04-02T20:02:00.1307Z",
              "session_start_time": null,
              "execution_start_time": "2025-04-02T20:02:47.7256152Z",
              "execution_finish_time": "2025-04-02T20:03:02.5036975Z",
              "parent_msg_id": "30a8747e-1755-443a-9c98-57649a25e9e0"
            },
            "text/plain": "StatementMeta(openweather, 1, 3, Finished, Available, Finished)"
          },
          "metadata": {}
        },
        {
          "output_type": "stream",
          "name": "stdout",
          "text": [
            "+----------------+--------+-------------------+------+----------+----------+------------+------+----------+----------+------------+------+----------+----------+------------+--------+----------+----------------+-------------------------+------------------+------------------+\n|              id|location|          date_time|temp_K|temp_max_K|temp_min_K|feels_like_K|temp_c|temp_max_c|temp_min_C|feels_like_C|temp_F|temp_max_F|temp_min_F|feels_like_F|humidity|wind_speed|weather_id_value|weather_description_value|weather_icon_value|weather_main_value|\n+----------------+--------+-------------------+------+----------+----------+------------+------+----------+----------+------------+------+----------+----------+------------+--------+----------+----------------+-------------------------+------------------+------------------+\n|Boston1739401200|  Boston|2025-02-12 23:00:00|272.94|    273.79|    271.83|      266.88|   0.0|       1.0|      -1.0|        -6.0| 31.62|     33.15|     29.62|       20.71|      77|      7.20|             804|          overcast clouds|               04n|            Clouds|\n|Boston1739404800|  Boston|2025-02-13 00:00:00|273.05|    273.79|    271.85|      267.02|   0.0|       1.0|      -1.0|        -6.0| 31.82|     33.15|     29.66|       20.97|      78|      7.20|             804|          overcast clouds|               04n|            Clouds|\n|Boston1739408400|  Boston|2025-02-13 01:00:00|273.32|    273.96|    272.18|      266.96|   0.0|       1.0|      -1.0|        -6.0| 32.31|     33.46|     30.25|       20.86|      76|      8.23|             804|          overcast clouds|               04n|            Clouds|\n|Boston1739412000|  Boston|2025-02-13 02:00:00|273.40|    274.26|    272.28|      266.87|   0.0|       1.0|      -1.0|        -6.0| 32.45|     34.00|     30.43|       20.70|      77|      8.75|             601|                     snow|               13n|              Snow|\n|Boston1739415600|  Boston|2025-02-13 03:00:00|273.52|    274.31|    272.28|      267.22|   0.0|       1.0|      -1.0|        -6.0| 32.67|     34.09|     30.43|       21.33|      77|      8.23|             804|          overcast clouds|               04n|            Clouds|\n|Boston1739419200|  Boston|2025-02-13 04:00:00|273.40|    274.26|    272.23|      266.69|   0.0|       1.0|      -1.0|        -6.0| 32.45|     34.00|     30.34|       20.37|      80|      9.26|             601|                     snow|               13n|              Snow|\n|Boston1739422800|  Boston|2025-02-13 05:00:00|273.09|    273.96|    272.20|      266.09|   0.0|       1.0|      -1.0|        -7.0| 31.89|     33.46|     30.29|       19.29|      82|     10.29|             601|                     snow|               13n|              Snow|\n|Boston1739426400|  Boston|2025-02-13 06:00:00|273.12|    273.96|    271.85|      266.32|   0.0|       1.0|      -1.0|        -7.0| 31.95|     33.46|     29.66|       19.71|      84|      9.26|             600|               light snow|               13n|              Snow|\n|Boston1739430000|  Boston|2025-02-13 07:00:00|273.34|    274.26|    272.25|      266.44|   0.0|       1.0|      -1.0|        -7.0| 32.34|     34.00|     30.38|       19.92|      86|      9.77|             600|               light snow|               13n|              Snow|\n|Boston1739433600|  Boston|2025-02-13 08:00:00|273.58|    274.38|    272.36|      267.11|   0.0|       1.0|      -1.0|        -6.0| 32.77|     34.21|     30.58|       21.13|      88|      8.75|             600|               light snow|               13n|              Snow|\n|Boston1739437200|  Boston|2025-02-13 09:00:00|273.78|    274.38|    272.80|      267.56|   1.0|       1.0|       0.0|        -6.0| 33.13|     34.21|     31.37|       21.94|      89|      8.23|             615|      light rain and snow|               13n|              Snow|\n|Boston1739440800|  Boston|2025-02-13 10:00:00|273.82|    274.46|    272.96|      268.01|   1.0|       1.0|       0.0|        -5.0| 33.21|     34.36|     31.66|       22.75|      89|      7.20|             701|                     mist|               50n|              Mist|\n|Boston1739444400|  Boston|2025-02-13 11:00:00|274.21|    274.91|    273.31|      267.43|   1.0|       2.0|       0.0|        -6.0| 33.91|     35.17|     32.29|       21.70|      90|     10.29|             500|               light rain|               10n|              Rain|\n|Boston1739448000|  Boston|2025-02-13 12:00:00|274.68|    275.49|    273.50|      268.73|   2.0|       2.0|       0.0|        -4.0| 34.75|     36.21|     32.63|       24.04|      90|      8.23|             501|            moderate rain|               10d|              Rain|\n|Boston1739451600|  Boston|2025-02-13 13:00:00|274.83|    275.46|    273.87|      269.31|   2.0|       2.0|       1.0|        -4.0| 35.02|     36.16|     33.30|       25.09|      90|      7.20|             501|            moderate rain|               10d|              Rain|\n|Boston1739455200|  Boston|2025-02-13 14:00:00|275.27|    276.05|    274.08|      270.31|   2.0|       3.0|       1.0|        -3.0| 35.82|     37.22|     33.67|       26.89|      91|      6.17|             501|            moderate rain|               10d|              Rain|\n|Boston1739458800|  Boston|2025-02-13 15:00:00|275.81|    276.60|    274.95|      271.76|   3.0|       3.0|       2.0|        -1.0| 36.79|     38.21|     35.24|       29.50|      91|      4.63|             500|               light rain|               10d|              Rain|\n|Boston1739462400|  Boston|2025-02-13 16:00:00|276.44|    277.21|    275.36|      272.54|   3.0|       4.0|       2.0|        -1.0| 37.92|     39.31|     35.98|       30.90|      91|      4.63|             701|                     mist|               50d|              Mist|\n|Boston1739466000|  Boston|2025-02-13 17:00:00|276.85|    277.71|    275.75|      274.03|   4.0|       5.0|       3.0|         1.0| 38.66|     40.21|     36.68|       33.58|      91|      3.09|             300|     light intensity d...|               09d|           Drizzle|\n|Boston1739469600|  Boston|2025-02-13 18:00:00|277.01|    277.75|    276.12|      277.01|   4.0|       5.0|       3.0|         4.0| 38.95|     40.28|     37.35|       38.95|      91|      0.00|             300|     light intensity d...|               09d|           Drizzle|\n+----------------+--------+-------------------+------+----------+----------+------------+------+----------+----------+------------+------+----------+----------+------------+--------+----------+----------------+-------------------------+------------------+------------------+\nonly showing top 20 rows\n\n"
          ]
        }
      ],
      "metadata": {},
      "source": [
        "# Load the weather data from the silver layer\n",
        "weather_df = spark.read.parquet(f\"{abfss_path}Silver/WeatherSilverData\")\n",
        "weather_df.show()"
      ]
    },
    {
      "cell_type": "code",
      "execution_count": 4,
      "outputs": [
        {
          "output_type": "display_data",
          "data": {
            "application/vnd.livy.statement-meta+json": {
              "spark_pool": "openweather",
              "statement_id": 4,
              "statement_ids": [
                4
              ],
              "state": "finished",
              "livy_statement_state": "available",
              "spark_jobs": null,
              "session_id": "1",
              "normalized_state": "finished",
              "queued_time": "2025-04-02T20:02:00.1312206Z",
              "session_start_time": null,
              "execution_start_time": "2025-04-02T20:03:02.5138492Z",
              "execution_finish_time": "2025-04-02T20:03:04.3907128Z",
              "parent_msg_id": "4d8d8b49-6c43-4827-9bf5-7795d6ddb990"
            },
            "text/plain": "StatementMeta(openweather, 1, 4, Finished, Available, Finished)"
          },
          "metadata": {}
        },
        {
          "output_type": "stream",
          "name": "stdout",
          "text": [
            "+----------------+--------+-------------------+---+------+----+----+-----+----+----+-----+----+\n|              id|location|          date_time|aqi|    co| nh3|  no|  no2|  o3|pm10|pm2_5| so2|\n+----------------+--------+-------------------+---+------+----+----+-----+----+----+-----+----+\n|Boston1707170400|  Boston|2024-02-05 22:00:00|  2|280.38|0.77|0.18|11.65|3.00|1.89| 1.30|1.61|\n|Boston1707174000|  Boston|2024-02-05 23:00:00|  2|293.73|0.90|0.00|13.54|3.00|2.23| 1.56|1.67|\n|Boston1707177600|  Boston|2024-02-06 00:00:00|  2|303.75|1.06|0.00|14.74|3.00|2.83| 2.03|1.79|\n|Boston1707181200|  Boston|2024-02-06 01:00:00|  2|300.41|1.08|0.00|13.54|3.00|2.90| 2.08|1.64|\n|Boston1707184800|  Boston|2024-02-06 02:00:00|  2|290.39|1.00|0.00|11.31|3.00|2.46| 1.77|1.45|\n|Boston1707188400|  Boston|2024-02-06 03:00:00|  2|283.72|0.92|0.00| 9.68|3.00|2.08| 1.49|1.31|\n|Boston1707192000|  Boston|2024-02-06 04:00:00|  2|273.70|0.75|0.00| 7.63|3.00|1.51| 1.05|1.15|\n|Boston1707195600|  Boston|2024-02-06 05:00:00|  2|267.03|0.66|0.00| 6.34|3.00|1.12| 0.76|1.15|\n|Boston1707199200|  Boston|2024-02-06 06:00:00|  2|263.69|0.64|0.00| 5.65|3.00|0.98| 0.66|1.15|\n|Boston1707202800|  Boston|2024-02-06 07:00:00|  2|263.69|0.66|0.00| 5.57|3.00|0.94| 0.63|1.19|\n|Boston1707206400|  Boston|2024-02-06 08:00:00|  2|263.69|0.62|0.00| 5.57|3.00|0.89| 0.60|1.30|\n|Boston1707210000|  Boston|2024-02-06 09:00:00|  2|260.35|0.55|0.00| 5.65|3.00|0.85| 0.55|1.42|\n|Boston1707213600|  Boston|2024-02-06 10:00:00|  2|260.35|0.51|0.00| 5.74|3.00|0.83| 0.52|1.53|\n|Boston1707217200|  Boston|2024-02-06 11:00:00|  2|263.69|0.51|0.00| 6.43|3.00|0.91| 0.57|1.65|\n|Boston1707220800|  Boston|2024-02-06 12:00:00|  2|273.70|0.66|0.00| 9.08|3.00|1.47| 0.99|1.80|\n|Boston1707224400|  Boston|2024-02-06 13:00:00|  2|287.06|0.78|0.13|11.65|3.00|1.90| 1.30|1.89|\n|Boston1707228000|  Boston|2024-02-06 14:00:00|  2|290.39|0.82|0.79|12.34|3.00|1.98| 1.32|2.00|\n|Boston1707231600|  Boston|2024-02-06 15:00:00|  2|287.06|0.78|1.36|11.14|3.00|1.92| 1.24|2.12|\n|Boston1707235200|  Boston|2024-02-06 16:00:00|  2|280.38|0.68|1.45| 9.94|3.00|1.67| 1.04|2.24|\n|Boston1707238800|  Boston|2024-02-06 17:00:00|  2|273.70|0.55|1.48| 8.57|3.00|1.38| 0.85|2.15|\n+----------------+--------+-------------------+---+------+----+----+-----+----+----+-----+----+\nonly showing top 20 rows\n\n"
          ]
        }
      ],
      "metadata": {},
      "source": [
        "# Load the air pollution data from silver layer\n",
        "air_pollution_df = spark.read.parquet(f\"{abfss_path}Silver/AirPollutionSilverData\")\n",
        "air_pollution_df.show()"
      ]
    },
    {
      "cell_type": "markdown",
      "metadata": {
        "nteract": {
          "transient": {
            "deleting": false
          }
        }
      },
      "source": [
        "**Data Processing**"
      ]
    },
    {
      "cell_type": "code",
      "execution_count": 5,
      "outputs": [
        {
          "output_type": "display_data",
          "data": {
            "application/vnd.livy.statement-meta+json": {
              "spark_pool": "openweather",
              "statement_id": 5,
              "statement_ids": [
                5
              ],
              "state": "finished",
              "livy_statement_state": "available",
              "spark_jobs": null,
              "session_id": "1",
              "normalized_state": "finished",
              "queued_time": "2025-04-02T20:02:00.1317317Z",
              "session_start_time": null,
              "execution_start_time": "2025-04-02T20:03:04.4016645Z",
              "execution_finish_time": "2025-04-02T20:03:04.6458274Z",
              "parent_msg_id": "d4e4b662-6908-4c02-aacf-400b29ce2706"
            },
            "text/plain": "StatementMeta(openweather, 1, 5, Finished, Available, Finished)"
          },
          "metadata": {}
        }
      ],
      "metadata": {},
      "source": [
        "# Recalculate AQI for Air Pollution Data\n",
        "\n",
        "from pyspark.sql.functions import col\n",
        "import pyspark.sql.functions as F\n",
        "from pyspark.sql.window import Window\n",
        "from pyspark.sql.types import IntegerType\n",
        "\n",
        "def calculate_aqi(pollutant, concentration):\n",
        "    breakpoints = {\n",
        "        'O3_8hr': [(0, 54, 0, 50), (55, 70, 51, 100), (71, 85, 101, 150), (86, 105, 151, 200), (106, 200, 201, 300)],\n",
        "        'O3_1hr': [(125, 164, 101, 150), (165, 204, 151, 200), (205, 404, 201, 300), (405, 504, 301, 400), (505, 604, 401, 500)],\n",
        "        'PM2.5_24hr': [(0, 12, 0, 50), (12.1, 35.4, 51, 100), (35.5, 55.4, 101, 150), (55.5, 150.4, 151, 200), (150.5, 250.4, 201, 300), (250.5, 350.4, 301, 400), (350.5, 500.4, 401, 500)],\n",
        "        'PM10_24hr': [(0, 54, 0, 50), (55, 154, 51, 100), (155, 254, 101, 150), (255, 354, 151, 200), (355, 424, 201, 300), (425, 504, 301, 400), (505, 604, 401, 500)],\n",
        "        'CO_8hr': [(0, 4.4, 0, 50), (4.5, 9.4, 51, 100), (9.5, 12.4, 101, 150), (12.5, 15.4, 151, 200), (15.5, 30.4, 201, 300), (30.5, 40.4, 301, 400), (40.5, 50.4, 401, 500)],\n",
        "        'SO2_1hr': [(0, 35, 0, 50), (36, 75, 51, 100), (76, 185, 101, 150), (186, 304, 151, 200)],\n",
        "        'SO2_24hr': [(305, 604, 201, 300), (605, 804, 301, 400), (805, 1004, 401, 500)],\n",
        "        'NO2_1hr': [(0, 53, 0, 50), (54, 100, 51, 100), (101, 360, 101, 150), (361, 649, 151, 200), (650, 1249, 201, 300), (1250, 2049, 301, 400), (2050, 3049, 401, 500)],\n",
        "    }\n",
        "\n",
        "    if pollutant not in breakpoints:\n",
        "        raise ValueError(f\"Unsupported pollutant: {pollutant}\")\n",
        "\n",
        "    for (Clow, Chigh, Ilow, Ihigh) in breakpoints[pollutant]:\n",
        "        if Clow <= concentration <= Chigh:\n",
        "            return round(((Ihigh - Ilow) / (Chigh - Clow)) * (concentration - Clow) + Ilow)\n",
        "\n",
        "    return None  # If the concentration is out of the given ranges"
      ]
    },
    {
      "cell_type": "code",
      "execution_count": 12,
      "outputs": [
        {
          "output_type": "display_data",
          "data": {
            "application/vnd.livy.statement-meta+json": {
              "spark_pool": "openweather",
              "statement_id": 12,
              "statement_ids": [
                12
              ],
              "state": "finished",
              "livy_statement_state": "available",
              "spark_jobs": null,
              "session_id": "1",
              "normalized_state": "finished",
              "queued_time": "2025-04-02T20:10:11.5934307Z",
              "session_start_time": null,
              "execution_start_time": "2025-04-02T20:10:11.5948232Z",
              "execution_finish_time": "2025-04-02T20:10:12.1743723Z",
              "parent_msg_id": "a8beebd1-8b3d-482d-a1be-c909479c874e"
            },
            "text/plain": "StatementMeta(openweather, 1, 12, Finished, Available, Finished)"
          },
          "metadata": {}
        }
      ],
      "metadata": {},
      "source": [
        "from pyspark.sql import functions as F\n",
        "from pyspark.sql.window import Window\n",
        "from pyspark.sql.types import DoubleType, IntegerType\n",
        "\n",
        "def calculate_rolling_average(df, column, window):\n",
        "    windowSpec = Window.partitionBy(\"location\").orderBy(\"date_time\").rowsBetween(-window+1, 0)\n",
        "    return F.avg(column).over(windowSpec)\n",
        "\n",
        "def calculate_aqi_row(row):\n",
        "    pollutant_map = {\n",
        "        'o3_8hr': 'O3_8hr',\n",
        "        'o3_1hr': 'O3_1hr',\n",
        "        'pm2_5_24hr': 'PM2.5_24hr',\n",
        "        'pm10_24hr': 'PM10_24hr',\n",
        "        'co_8hr': 'CO_8hr',\n",
        "        'so2_1hr': 'SO2_1hr',\n",
        "        'so2_24hr': 'SO2_24hr',\n",
        "        'no2_1hr': 'NO2_1hr'\n",
        "    }\n",
        "    aqi_values = []\n",
        "\n",
        "    for col_name, pollutant in pollutant_map.items():\n",
        "        concentration = row[col_name]\n",
        "        if concentration is not None:\n",
        "            try:\n",
        "                concentration = float(concentration)  # Ensure it's a float\n",
        "                aqi = calculate_aqi(pollutant, concentration)\n",
        "                if aqi is not None:\n",
        "                    aqi_values.append(aqi)\n",
        "            except ValueError:\n",
        "                print(f\"Skipping invalid value: {concentration} for pollutant {col_name}\")\n",
        "\n",
        "    return max(aqi_values) if aqi_values else None\n",
        "\n",
        "def calculate_us_aqi(df):\n",
        "    df = df.withColumn(\"o3_8hr\", calculate_rolling_average(df, \"o3\", 8).cast(DoubleType()))\n",
        "    df = df.withColumn(\"o3_1hr\", F.col(\"o3\").cast(DoubleType()))\n",
        "    df = df.withColumn(\"pm2_5_24hr\", calculate_rolling_average(df, \"pm2_5\", 24).cast(DoubleType()))\n",
        "    df = df.withColumn(\"pm10_24hr\", calculate_rolling_average(df, \"pm10\", 24).cast(DoubleType()))\n",
        "    df = df.withColumn(\"co_8hr\", calculate_rolling_average(df, \"co\", 8).cast(DoubleType()))\n",
        "    df = df.withColumn(\"so2_1hr\", F.col(\"so2\").cast(DoubleType()))\n",
        "    df = df.withColumn(\"so2_24hr\", calculate_rolling_average(df, \"so2\", 24).cast(DoubleType()))\n",
        "    df = df.withColumn(\"no2_1hr\", F.col(\"no2\").cast(DoubleType()))\n",
        "\n",
        "    calculate_aqi_udf = F.udf(lambda row: calculate_aqi_row(row), IntegerType())\n",
        "    \n",
        "    df = df.withColumn(\"us_aqi\", calculate_aqi_udf(F.struct(\n",
        "        F.col(\"o3_8hr\"),\n",
        "        F.col(\"o3_1hr\"),\n",
        "        F.col(\"pm2_5_24hr\"),\n",
        "        F.col(\"pm10_24hr\"),\n",
        "        F.col(\"co_8hr\"),\n",
        "        F.col(\"so2_1hr\"),\n",
        "        F.col(\"so2_24hr\"),\n",
        "        F.col(\"no2_1hr\")\n",
        "    )))\n",
        "\n",
        "    return df\n",
        "\n",
        "# Apply the function\n",
        "air_pollution_df = calculate_us_aqi(air_pollution_df)"
      ]
    },
    {
      "cell_type": "code",
      "execution_count": 13,
      "outputs": [
        {
          "output_type": "display_data",
          "data": {
            "application/vnd.livy.statement-meta+json": {
              "spark_pool": "openweather",
              "statement_id": 13,
              "statement_ids": [
                13
              ],
              "state": "finished",
              "livy_statement_state": "available",
              "spark_jobs": null,
              "session_id": "1",
              "normalized_state": "finished",
              "queued_time": "2025-04-02T20:10:49.6186288Z",
              "session_start_time": null,
              "execution_start_time": "2025-04-02T20:10:49.6198449Z",
              "execution_finish_time": "2025-04-02T20:10:52.7586378Z",
              "parent_msg_id": "c541a07d-58d3-49ff-a6ce-752d43415de9"
            },
            "text/plain": "StatementMeta(openweather, 1, 13, Finished, Available, Finished)"
          },
          "metadata": {}
        },
        {
          "output_type": "stream",
          "name": "stdout",
          "text": [
            "+-------------------+------+------+------------------+------------------+------------------+-------+------------------+-------+------+\n|          date_time|o3_8hr|o3_1hr|        pm2_5_24hr|         pm10_24hr|            co_8hr|so2_1hr|          so2_24hr|no2_1hr|us_aqi|\n+-------------------+------+------+------------------+------------------+------------------+-------+------------------+-------+------+\n|2024-02-05 22:00:00|   3.0|   3.0|               1.3|              1.89|            280.38|   1.61|              1.61|  11.65|  11.0|\n|2024-02-05 23:00:00|   3.0|   3.0|1.4300000000000002|              2.06|           287.055|   1.67|1.6400000000000001|  13.54|  13.0|\n|2024-02-06 00:00:00|   3.0|   3.0|1.6300000000000001| 2.316666666666667|            292.62|   1.79|1.6900000000000002|  14.74|  14.0|\n|2024-02-06 01:00:00|   3.0|   3.0|1.7425000000000002|            2.4625|          294.5675|   1.64|            1.6775|  13.54|  13.0|\n|2024-02-06 02:00:00|   3.0|   3.0|             1.748|2.4619999999999997|293.73199999999997|   1.45|1.6320000000000001|  11.31|  11.0|\n|2024-02-06 03:00:00|   3.0|   3.0|             1.705| 2.398333333333333|292.06333333333333|   1.31|1.5783333333333334|   9.68|   9.0|\n|2024-02-06 04:00:00|   3.0|   3.0|1.6114285714285717|2.2714285714285714|            289.44|   1.15|1.5171428571428573|   7.63|   7.0|\n|2024-02-06 05:00:00|   3.0|   3.0|1.5050000000000001|            2.1275|286.63874999999996|   1.15|1.4712500000000002|   6.34|   6.0|\n|2024-02-06 06:00:00|   3.0|   3.0|1.4111111111111112|               2.0|          284.5525|   1.15|1.4355555555555557|   5.65|   6.0|\n|2024-02-06 07:00:00|   3.0|   3.0|1.3330000000000002|1.8940000000000001|          280.7975|   1.19|             1.411|   5.57|   6.0|\n+-------------------+------+------+------------------+------------------+------------------+-------+------------------+-------+------+\nonly showing top 10 rows\n\n"
          ]
        }
      ],
      "metadata": {},
      "source": [
        "# Display selected columns to verify recalculations\n",
        "# Ensure all columns are properly cast before displaying\n",
        "from pyspark.sql.functions import col\n",
        "\n",
        "air_pollution_df = air_pollution_df.withColumn(\"o3_8hr\", col(\"o3_8hr\").cast(\"double\")) \\\n",
        "                                   .withColumn(\"pm2_5_24hr\", col(\"pm2_5_24hr\").cast(\"double\")) \\\n",
        "                                   .withColumn(\"pm10_24hr\", col(\"pm10_24hr\").cast(\"double\")) \\\n",
        "                                   .withColumn(\"co_8hr\", col(\"co_8hr\").cast(\"double\")) \\\n",
        "                                   .withColumn(\"so2_1hr\", col(\"so2_1hr\").cast(\"double\")) \\\n",
        "                                   .withColumn(\"so2_24hr\", col(\"so2_24hr\").cast(\"double\")) \\\n",
        "                                   .withColumn(\"no2_1hr\", col(\"no2_1hr\").cast(\"double\")) \\\n",
        "                                   .withColumn(\"us_aqi\", col(\"us_aqi\").cast(\"double\"))\n",
        "\n",
        "# Display selected columns to verify recalculations\n",
        "air_pollution_df.select(\n",
        "    \"date_time\", \"o3_8hr\", \"o3_1hr\", \"pm2_5_24hr\", \"pm10_24hr\", \"co_8hr\", \"so2_1hr\", \"so2_24hr\", \"no2_1hr\", \"us_aqi\"\n",
        ").show(10)\n",
        ""
      ]
    },
    {
      "cell_type": "markdown",
      "metadata": {
        "nteract": {
          "transient": {
            "deleting": false
          }
        }
      },
      "source": [
        "**Data Aggregation**"
      ]
    },
    {
      "cell_type": "code",
      "execution_count": 16,
      "outputs": [
        {
          "output_type": "display_data",
          "data": {
            "application/vnd.livy.statement-meta+json": {
              "spark_pool": "openweather",
              "statement_id": 16,
              "statement_ids": [
                16
              ],
              "state": "finished",
              "livy_statement_state": "available",
              "spark_jobs": null,
              "session_id": "1",
              "normalized_state": "finished",
              "queued_time": "2025-04-02T20:13:17.5104325Z",
              "session_start_time": null,
              "execution_start_time": "2025-04-02T20:13:17.5116366Z",
              "execution_finish_time": "2025-04-02T20:13:23.3498055Z",
              "parent_msg_id": "ec6a53ca-4f13-49c7-a7af-d076f8406b05"
            },
            "text/plain": "StatementMeta(openweather, 1, 16, Finished, Available, Finished)"
          },
          "metadata": {}
        },
        {
          "output_type": "stream",
          "name": "stdout",
          "text": [
            "Weather Aggregated Data:\n+----------+----------+------------+--------------+----------+----------+---------------+\n|      date|avg_temp_F|avg_humidity|avg_wind_speed|max_temp_F|min_temp_F|weather_records|\n+----------+----------+------------+--------------+----------+----------+---------------+\n|2024-02-21|      33.0|        67.0|          6.69|      35.0|      31.0|              1|\n|2024-02-22|      33.0|       70.96|          2.96|      47.0|      21.0|             24|\n|2024-02-23|      38.0|       86.21|          2.89|      44.0|      33.0|             24|\n|2024-02-24|      37.0|       72.79|           4.1|      42.0|      26.0|             24|\n|2024-02-25|      25.0|       41.21|          3.28|      41.0|      12.0|             24|\n|2024-02-26|      38.0|       63.63|          3.85|      57.0|      25.0|             24|\n|2024-02-27|      43.0|       75.13|          1.65|      64.0|      28.0|             24|\n|2024-02-28|      54.0|       87.21|          5.79|      60.0|      45.0|             24|\n|2024-02-29|      36.0|       55.92|          6.71|      58.0|      24.0|             24|\n|2024-03-01|      30.0|       46.96|          2.96|      45.0|      18.0|             24|\n|2024-03-02|      40.0|       72.75|          2.08|      50.0|      31.0|             24|\n|2024-03-03|      49.0|       87.79|          4.84|      61.0|      42.0|             24|\n|2024-03-04|      47.0|       83.21|          2.19|      57.0|      39.0|             24|\n|2024-03-05|      41.0|       91.38|          2.89|      45.0|      37.0|             24|\n|2024-03-06|      45.0|       90.08|          2.87|      57.0|      38.0|             24|\n|2024-03-07|      44.0|       90.17|          7.65|      51.0|      40.0|             24|\n|2024-03-08|      42.0|       66.38|          7.35|      54.0|      32.0|             24|\n|2024-03-09|      36.0|       78.96|          3.85|      44.0|      27.0|             24|\n|2024-03-10|      45.0|       81.46|          7.78|      54.0|      36.0|             24|\n|2024-03-11|      39.0|       59.71|           9.7|      47.0|      31.0|             24|\n+----------+----------+------------+--------------+----------+----------+---------------+\nonly showing top 20 rows\n\n\nWeather Condition Counts:\n+----------+------------------+-----+\n|      date|weather_main_value|count|\n+----------+------------------+-----+\n|2025-02-07|            Clouds|   12|\n|2024-08-24|            Clouds|   16|\n|2024-06-25|              Rain|    2|\n|2024-05-06|              Rain|    6|\n|2024-10-22|            Clouds|    2|\n|2024-09-07|            Clouds|   24|\n|2025-02-19|            Clouds|   18|\n|2025-02-02|             Clear|    6|\n|2024-12-24|             Clear|    2|\n|2024-12-14|             Clear|   24|\n|2024-10-05|             Clear|    1|\n|2024-03-27|              Mist|    1|\n|2024-02-24|             Clear|    3|\n|2024-11-02|             Clear|   11|\n|2024-07-19|             Clear|   15|\n|2024-09-02|            Clouds|   21|\n|2024-06-18|            Clouds|   24|\n|2024-07-08|             Clear|    9|\n|2024-09-01|            Clouds|   24|\n|2024-07-26|            Clouds|   14|\n+----------+------------------+-----+\nonly showing top 20 rows\n\n\nTemperature Extremes:\n+----------+----------+----------+\n|      date|max_temp_F|min_temp_F|\n+----------+----------+----------+\n|2024-02-21|     35.01|     31.05|\n|2024-02-22|     47.10|     21.16|\n|2024-02-23|     44.01|     33.06|\n|2024-02-24|     42.12|     26.47|\n|2024-02-25|     41.40|     12.45|\n|2024-02-26|     57.16|     25.47|\n|2024-02-27|     64.40|     27.88|\n|2024-02-28|     60.30|     44.94|\n|2024-02-29|     57.58|     23.83|\n|2024-03-01|     44.64|     18.39|\n|2024-03-02|     50.11|     31.37|\n|2024-03-03|     60.91|     41.95|\n|2024-03-04|     56.95|     38.66|\n|2024-03-05|     44.96|     37.20|\n|2024-03-06|     57.34|     37.58|\n|2024-03-07|     50.95|     39.61|\n|2024-03-08|     54.39|     32.16|\n|2024-03-09|     43.52|     26.85|\n|2024-03-10|     53.56|     36.37|\n|2024-03-11|     46.53|     30.58|\n+----------+----------+----------+\nonly showing top 20 rows\n\n"
          ]
        }
      ],
      "metadata": {},
      "source": [
        "# Weather data\n",
        "\n",
        "# Aggregation by Date: Compute daily averages for temperature, humidity, wind speed, etc.\n",
        "weather_agg_df = weather_df.groupBy(F.date_format(col(\"date_time\"), \"yyyy-MM-dd\").alias(\"date\")).agg(\n",
        "    F.round(F.avg(\"temp_F\")).alias(\"avg_temp_F\"),\n",
        "    F.round(F.avg(\"humidity\"),2).alias(\"avg_humidity\"),\n",
        "    F.round(F.avg(\"wind_speed\"),2).alias(\"avg_wind_speed\"),\n",
        "    F.round(F.max(\"temp_max_F\")).alias(\"max_temp_F\"),\n",
        "    F.round(F.min(\"temp_min_F\")).alias(\"min_temp_F\"),\n",
        "    F.count(\"id\").alias(\"weather_records\")\n",
        ")\n",
        "\n",
        "# Weather Condition Counts: Count the occurrences of different weather conditions for each day\n",
        "weather_condition_counts_df = weather_df.groupBy(F.date_format(col(\"date_time\"), \"yyyy-MM-dd\").alias(\"date\"), \"weather_main_value\").count()\n",
        "\n",
        "# Temperature Extremes: Identify the maximum and minimum temperatures for each day\n",
        "temp_extremes_df = weather_df.groupBy(F.date_format(col(\"date_time\"), \"yyyy-MM-dd\").alias(\"date\")).agg(\n",
        "    F.max(\"temp_max_F\").alias(\"max_temp_F\"),\n",
        "    F.min(\"temp_min_F\").alias(\"min_temp_F\")\n",
        ")\n",
        "\n",
        "# Display the Aggregated Data (use the show functions)\n",
        "\n",
        "# Display weather_agg_df\n",
        "print(\"Weather Aggregated Data:\")\n",
        "weather_agg_df.show()\n",
        "\n",
        "# Display weather_condition_counts_df\n",
        "print(\"\\nWeather Condition Counts:\")\n",
        "weather_condition_counts_df.show()\n",
        "\n",
        "# Display temp_extremes_df\n",
        "print(\"\\nTemperature Extremes:\")\n",
        "temp_extremes_df.show()"
      ]
    },
    {
      "cell_type": "code",
      "execution_count": 17,
      "outputs": [
        {
          "output_type": "display_data",
          "data": {
            "application/vnd.livy.statement-meta+json": {
              "spark_pool": "openweather",
              "statement_id": 17,
              "statement_ids": [
                17
              ],
              "state": "finished",
              "livy_statement_state": "available",
              "spark_jobs": null,
              "session_id": "1",
              "normalized_state": "finished",
              "queued_time": "2025-04-02T20:15:13.7361054Z",
              "session_start_time": null,
              "execution_start_time": "2025-04-02T20:15:13.7375894Z",
              "execution_finish_time": "2025-04-02T20:15:21.3932422Z",
              "parent_msg_id": "ef8c86e2-5313-4a08-9761-890f899a073b"
            },
            "text/plain": "StatementMeta(openweather, 1, 17, Finished, Available, Finished)"
          },
          "metadata": {}
        },
        {
          "output_type": "stream",
          "name": "stdout",
          "text": [
            "AQI Aggregated Data:\n+----------+----------+\n|      date|avg_us_aqi|\n+----------+----------+\n|2024-07-14|      22.0|\n|2024-08-20|      23.0|\n|2024-09-15|      40.0|\n|2024-10-24|      64.0|\n|2024-08-06|      48.0|\n|2024-10-22|      61.0|\n|2025-02-25|      84.0|\n|2024-04-03|      12.0|\n|2024-12-12|      16.0|\n|2024-02-08|      77.0|\n|2024-02-28|      58.0|\n|2024-07-12|      25.0|\n|2025-01-03|       8.0|\n|2024-10-10|      11.0|\n|2024-12-09|      27.0|\n|2024-09-21|       8.0|\n|2024-11-20|      32.0|\n|2024-12-03|      29.0|\n|2024-02-20|      30.0|\n|2024-11-08|      23.0|\n+----------+----------+\nonly showing top 20 rows\n\n\nPollution Counts:\n+----------+------+-------+------+-------+---------+--------+\n|      date|avg_co|avg_no2|avg_o3|avg_so2|avg_pm2_5|avg_pm10|\n+----------+------+-------+------+-------+---------+--------+\n|2024-07-14|294.57|  14.11|   3.0|   2.94|     9.08|    9.75|\n|2024-08-20|309.03|  11.25|   3.0|   2.27|     2.63|    3.11|\n|2024-09-15|292.48|  13.85|   3.0|   2.24|     6.21|    8.55|\n|2024-10-24|283.86|  14.97|   3.0|   2.89|     6.69|    9.02|\n|2024-08-06| 278.3|  11.74|   3.0|   2.56|     8.46|    9.05|\n|2024-10-22|396.79|  27.54|   3.0|   2.78|    20.75|   24.33|\n|2025-02-25|365.63|  23.51|   3.0|   4.62|    20.48|   25.12|\n|2024-04-03|254.37|   3.74|   3.0|   1.11|     1.57|    2.16|\n|2024-12-12|281.08|  11.31|   3.0|   1.63|      1.7|    2.49|\n|2024-02-08|895.94|  65.84|   3.0|   7.65|    41.45|   46.44|\n|2024-02-28|279.69|   10.2|   3.0|   1.76|     4.91|    6.16|\n|2024-07-12|268.77|  11.47|   3.0|    3.1|     6.88|   10.34|\n|2025-01-03|282.74|   8.29|   3.0|   1.13|     0.69|    1.18|\n|2024-10-10|256.04|  11.48|   3.0|   1.97|     1.22|    1.93|\n|2024-12-09|364.52|  20.73|   3.0|   2.45|     5.12|    6.91|\n|2024-09-21|243.94|   3.86|   3.0|   1.26|     1.69|    2.26|\n|2024-11-20|457.98|  29.83|   3.0|   3.64|      8.9|   12.05|\n|2024-12-03|356.32|  27.47|   3.0|    3.8|     5.65|     8.0|\n|2024-02-20| 424.6|  29.43|   3.0|   5.04|     9.04|   11.41|\n|2024-11-08|327.95|  21.93|   3.0|   3.02|     4.11|    5.89|\n+----------+------+-------+------+-------+---------+--------+\nonly showing top 20 rows\n\n\n Pollution Extremes:\n+----------+---------------------+\n|      date|high_pollution_events|\n+----------+---------------------+\n|2024-07-14|                    0|\n|2024-08-20|                    0|\n|2024-09-15|                    0|\n|2024-10-24|                    0|\n|2024-08-06|                    0|\n|2024-10-22|                    0|\n|2025-02-25|                    0|\n|2024-04-03|                    0|\n|2024-12-12|                    0|\n|2024-02-08|                    6|\n|2024-02-28|                    0|\n|2024-07-12|                    0|\n|2025-01-03|                    0|\n|2024-10-10|                    0|\n|2024-12-09|                    0|\n|2024-09-21|                    0|\n|2024-11-20|                    0|\n|2024-12-03|                    0|\n|2024-02-20|                    0|\n|2024-11-08|                    0|\n+----------+---------------------+\nonly showing top 20 rows\n\n"
          ]
        }
      ],
      "metadata": {},
      "source": [
        "# Air Pollution Data\n",
        "\n",
        "# Daily Average AQI: Compute the daily average Air Quality Index (AQI)\n",
        "aqi_agg_df = air_pollution_df.groupBy(F.date_format(col(\"date_time\"), \"yyyy-MM-dd\").alias(\"date\")).agg(\n",
        "    F.round(F.avg(\"us_aqi\")).alias(\"avg_us_aqi\")\n",
        ")\n",
        "\n",
        "# Pollutant Aggregation: Calculate daily averages for each pollutant\n",
        "pollutant_agg_df = air_pollution_df.groupBy(F.date_format(col(\"date_time\"), \"yyyy-MM-dd\").alias(\"date\")).agg(\n",
        "    F.round(F.avg(\"co\"),2).alias(\"avg_co\"),\n",
        "    F.round(F.avg(\"no2\"),2).alias(\"avg_no2\"),\n",
        "    F.round(F.avg(\"o3\"),2).alias(\"avg_o3\"),\n",
        "    F.round(F.avg(\"so2\"),2).alias(\"avg_so2\"),\n",
        "    F.round(F.avg(\"pm2_5\"),2).alias(\"avg_pm2_5\"),\n",
        "    F.round(F.avg(\"pm10\"),2).alias(\"avg_pm10\")\n",
        ")\n",
        "\n",
        "# Identify High Pollution Events: Mark days with high pollution levels based on a specified threshold\n",
        "high_pollution_events_df = air_pollution_df.withColumn(\"high_pollution\", F.when(col(\"us_aqi\") > 100, 1).otherwise(0)).groupBy(F.date_format(col(\"date_time\"), \"yyyy-MM-dd\").alias(\"date\")).agg(\n",
        "    F.sum(\"high_pollution\").alias(\"high_pollution_events\")\n",
        ")\n",
        "\n",
        "# Display the Aggregated Data (use the show functions)\n",
        "\n",
        "# Display aqi_agg_df\n",
        "print(\"AQI Aggregated Data:\")\n",
        "aqi_agg_df.show()\n",
        "\n",
        "# Display pollutant_agg_df\n",
        "print(\"\\nPollution Counts:\")\n",
        "pollutant_agg_df.show()\n",
        "\n",
        "# Display high_pollution_events_df\n",
        "print(\"\\n Pollution Extremes:\")\n",
        "high_pollution_events_df.show()"
      ]
    },
    {
      "cell_type": "markdown",
      "metadata": {
        "nteract": {
          "transient": {
            "deleting": false
          }
        }
      },
      "source": [
        "**Save Data to Gold Layer**"
      ]
    },
    {
      "cell_type": "code",
      "execution_count": 19,
      "outputs": [
        {
          "output_type": "display_data",
          "data": {
            "application/vnd.livy.statement-meta+json": {
              "spark_pool": "openweather",
              "statement_id": 19,
              "statement_ids": [
                19
              ],
              "state": "finished",
              "livy_statement_state": "available",
              "spark_jobs": null,
              "session_id": "1",
              "normalized_state": "finished",
              "queued_time": "2025-04-02T20:21:02.638613Z",
              "session_start_time": null,
              "execution_start_time": "2025-04-02T20:21:02.639838Z",
              "execution_finish_time": "2025-04-02T20:21:23.5028347Z",
              "parent_msg_id": "d4b8fb60-3507-4750-9601-9e6b55afc6b3"
            },
            "text/plain": "StatementMeta(openweather, 1, 19, Finished, Available, Finished)"
          },
          "metadata": {}
        }
      ],
      "metadata": {},
      "source": [
        "# Save aggregated data as single files\n",
        "\n",
        "abfss_base_path = f\"abfss://{container_name}@{storage_account_name}.dfs.core.windows.net/Gold\"\n",
        "\n",
        "weather_agg_df.coalesce(1).write.mode(\"overwrite\").parquet(f\"{abfss_base_path}/agg_weather\")\n",
        "weather_condition_counts_df.coalesce(1).write.mode(\"overwrite\").parquet(f\"{abfss_base_path}/agg_weather_conditions\")\n",
        "temp_extremes_df.coalesce(1).write.mode(\"overwrite\").parquet(f\"{abfss_base_path}/agg_temp_extremes\")\n",
        "aqi_agg_df.coalesce(1).write.mode(\"overwrite\").parquet(f\"{abfss_base_path}/agg_aqi\")\n",
        "pollutant_agg_df.coalesce(1).write.mode(\"overwrite\").parquet(f\"{abfss_base_path}/agg_pollutants\")\n",
        "high_pollution_events_df.coalesce(1).write.mode(\"overwrite\").parquet(f\"{abfss_base_path}/agg_high_pollution_events\")\n",
        "\n",
        "# Save processed weather data\n",
        "weather_df.coalesce(1).write.mode(\"overwrite\").parquet(f\"{abfss_base_path}/processed_weather\")\n",
        "\n",
        "# Save processed air pollution data\n",
        "air_pollution_df.coalesce(1).write.mode(\"overwrite\").parquet(f\"{abfss_base_path}/processed_air_pollution\")"
      ]
    },
    {
      "cell_type": "markdown",
      "metadata": {
        "nteract": {
          "transient": {
            "deleting": false
          }
        }
      },
      "source": [
        "****"
      ]
    }
  ]
}
